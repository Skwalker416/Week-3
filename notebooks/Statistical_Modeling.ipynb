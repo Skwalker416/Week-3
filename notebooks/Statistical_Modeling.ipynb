{
 "cells": [
  {
   "cell_type": "markdown",
   "metadata": {},
   "source": [
    "# Sections:\n",
    "# 1. Data Loading\n",
    "# 2. Data Preparation\n",
    "# 3. Model Training\n",
    "# 4. Model Evaluation\n",
    "# 5. Insights and Visualizations\n",
    "\n",
    "# Use this notebook for an interactive workflow, combining code, explanations, and outputs.\n"
   ]
  },
  {
   "cell_type": "code",
   "execution_count": null,
   "metadata": {
    "vscode": {
     "languageId": "plaintext"
    }
   },
   "outputs": [],
   "source": [
    "import pandas as pd\n",
    "import numpy as np\n",
    "from sklearn.model_selection import train_test_split\n",
    "from sklearn.linear_model import LinearRegression\n",
    "from sklearn.ensemble import RandomForestRegressor\n",
    "import xgboost as xgb\n",
    "from sklearn.metrics import mean_squared_error, r2_score\n",
    "\n",
    "# Load Data\n",
    "data = pd.read_csv('../data/preprocessed_data.csv')\n",
    "display(data.head())\n",
    "\n",
    "# Split Data\n",
    "X = data.drop(['TotalClaims'], axis=1)\n",
    "y = data['TotalClaims']\n",
    "\n",
    "X_train, X_test, y_train, y_test = train_test_split(X, y, test_size=0.3, random_state=42)\n",
    "\n",
    "# Train Models\n",
    "lr_model = LinearRegression().fit(X_train, y_train)\n",
    "rf_model = RandomForestRegressor().fit(X_train, y_train)\n",
    "xgb_model = xgb.XGBRegressor().fit(X_train, y_train)\n",
    "\n",
    "# Evaluate Models\n",
    "models = {'Linear Regression': lr_model, 'Random Forest': rf_model, 'XGBoost': xgb_model}\n",
    "\n",
    "for name, model in models.items():\n",
    "    predictions = model.predict(X_test)\n",
    "    mse = mean_squared_error(y_test, predictions)\n",
    "    r2 = r2_score(y_test, predictions)\n",
    "    print(f\"{name}: MSE = {mse:.2f}, R^2 = {r2:.2f}\")"
   ]
  }
 ],
 "metadata": {
  "language_info": {
   "name": "python"
  }
 },
 "nbformat": 4,
 "nbformat_minor": 2
}
