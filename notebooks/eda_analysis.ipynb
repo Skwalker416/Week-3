{
 "cells": [
  {
   "cell_type": "code",
   "execution_count": null,
   "metadata": {},
   "outputs": [],
   "source": [
    "import pandas as pd\n",
    "\n",
    "# Load the data\n",
    "data = pd.read_csv(\"data/MachineLearningRating.txt\", delimiter=\"\\t\")  # Update path if needed\n",
    "\n",
    "# Quick overview\n",
    "data.info()\n",
    "\n",
    "# Descriptive statistics\n",
    "data.describe()\n",
    "\n",
    "# Check for missing values\n",
    "missing_values = data.isnull().sum()\n",
    "missing_values\n"
   ]
  },
  {
   "cell_type": "markdown",
   "metadata": {},
   "source": [
    "## Univariate Analysis\n",
    "In this step, i analyze the distribution of numerical and categorical data.\n"
   ]
  },
  {
   "cell_type": "code",
   "execution_count": null,
   "metadata": {},
   "outputs": [],
   "source": [
    "import matplotlib.pyplot as plt\n",
    "import seaborn as sns\n",
    "\n",
    "# Plot histograms for numerical data\n",
    "data[['TotalPremium', 'TotalClaims']].hist(bins=30, figsize=(10, 5), color='skyblue')\n",
    "plt.suptitle(\"Distribution of TotalPremium and TotalClaims\")\n",
    "plt.show()\n",
    "\n",
    "# Plot bar chart for categorical data\n",
    "categorical_features = ['Province', 'Gender']\n",
    "for feature in categorical_features:\n",
    "    sns.countplot(data=data, x=feature, palette='viridis')\n",
    "    plt.title(f\"Distribution of {feature}\")\n",
    "    plt.show()\n"
   ]
  },
  {
   "cell_type": "markdown",
   "metadata": {},
   "source": [
    "## Bivariate and Multivariate Analysis\n",
    "In this step,  explore relationships between key variables.\n"
   ]
  },
  {
   "cell_type": "code",
   "execution_count": null,
   "metadata": {},
   "outputs": [],
   "source": [
    "# Correlation heatmap for numerical features\n",
    "numerical_features = ['TotalPremium', 'TotalClaims']\n",
    "corr_matrix = data[numerical_features].corr()\n",
    "\n",
    "sns.heatmap(corr_matrix, annot=True, cmap='coolwarm')\n",
    "plt.title(\"Correlation Matrix\")\n",
    "plt.show()\n",
    "\n",
    "# Scatter plot for geographical trends\n",
    "sns.scatterplot(data=data, x=\"TotalPremium\", y=\"TotalClaims\", hue=\"Province\", palette='Set1')\n",
    "plt.title(\"Total Premium vs Total Claims by Province\")\n",
    "plt.show()\n"
   ]
  }
 ],
 "metadata": {
  "kernelspec": {
   "display_name": ".venv",
   "language": "python",
   "name": "python3"
  },
  "language_info": {
   "name": "python",
   "version": "3.10.11"
  }
 },
 "nbformat": 4,
 "nbformat_minor": 2
}
